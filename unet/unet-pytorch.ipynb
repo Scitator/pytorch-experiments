{
 "cells": [
  {
   "cell_type": "code",
   "execution_count": null,
   "metadata": {
    "collapsed": true
   },
   "outputs": [],
   "source": [
    "# data here: https://mega.nz/#F!9RdjiDiB!06icNxE9XwcWRIlYWfFIgg"
   ]
  },
  {
   "cell_type": "code",
   "execution_count": null,
   "metadata": {
    "collapsed": true
   },
   "outputs": [],
   "source": [
    "import numpy as np\n",
    "import os\n",
    "import pickle\n",
    "from glob import glob\n",
    "from tqdm import trange\n",
    "import matplotlib.pyplot as plt\n",
    "plt.style.use(\"ggplot\")\n",
    "\n",
    "import torch\n",
    "import torch.autograd as autograd\n",
    "import torch.nn as nn\n",
    "import torch.nn.functional as F\n",
    "import torch.optim as optim\n",
    "import torch.utils.data\n",
    "import torchvision\n",
    "\n",
    "%matplotlib inline"
   ]
  },
  {
   "cell_type": "code",
   "execution_count": null,
   "metadata": {
    "collapsed": true
   },
   "outputs": [],
   "source": [
    "from itertools import tee, chain\n",
    "\n",
    "def pairwise(iterable):\n",
    "    \"s -> (s0,s1), (s1,s2), (s2, s3), ...\"\n",
    "    a, b = tee(iterable)\n",
    "    next(b, None)\n",
    "    return zip(a, b)\n",
    "\n",
    "def flatten(listOfLists):\n",
    "    \"Flatten one level of nesting\"\n",
    "    return chain.from_iterable(listOfLists)"
   ]
  },
  {
   "cell_type": "code",
   "execution_count": null,
   "metadata": {
    "collapsed": true
   },
   "outputs": [],
   "source": [
    "class UNetConvBlock(nn.Module):\n",
    "    def __init__(self, channels_in, n_filters, kernel_size=3):\n",
    "        super(UNetConvBlock, self).__init__()\n",
    "        self.kernel_size = kernel_size\n",
    "        self.c_in = channels_in\n",
    "        self.c_out = n_filters\n",
    "        \n",
    "        self.conv_fn1 = nn.Conv2d(\n",
    "            in_channels=channels_in, \n",
    "            out_channels=n_filters, \n",
    "            kernel_size=kernel_size, \n",
    "            padding=kernel_size // 2,\n",
    "            bias=False)\n",
    "        \n",
    "        self.conv_fn2 = nn.Conv2d(\n",
    "            in_channels=n_filters, \n",
    "            out_channels=n_filters, \n",
    "            kernel_size=kernel_size, \n",
    "            padding=kernel_size // 2,\n",
    "            bias=False)\n",
    "\n",
    "    def forward(self, x):\n",
    "        activation_fn = F.relu\n",
    "        \n",
    "        x = self.conv_fn1(x)\n",
    "        x = activation_fn(x)\n",
    "        x = F.dropout(x)\n",
    "        \n",
    "        x = self.conv_fn2(x)\n",
    "        x = activation_fn(x)\n",
    "        x = F.dropout(x)\n",
    "        \n",
    "        return x"
   ]
  },
  {
   "cell_type": "code",
   "execution_count": null,
   "metadata": {
    "collapsed": true
   },
   "outputs": [],
   "source": [
    "class UNetForward(nn.Module):\n",
    "    def __init__(self, channels_in, n_filters, kernel_size=3, pool_size=2):\n",
    "        super(UNetForward, self).__init__()\n",
    "\n",
    "        self.kernel_size = kernel_size\n",
    "        self.pool_size = pool_size\n",
    "        \n",
    "        self.conv_block = UNetConvBlock(channels_in, n_filters)\n",
    "\n",
    "    def forward(self, x):\n",
    "        conv = self.conv_block(x)\n",
    "        pool = F.max_pool2d(\n",
    "            conv, \n",
    "            kernel_size=self.pool_size, \n",
    "            stride=self.pool_size)\n",
    "        return conv, pool"
   ]
  },
  {
   "cell_type": "code",
   "execution_count": null,
   "metadata": {
    "collapsed": true
   },
   "outputs": [],
   "source": [
    "class UNetBackward(nn.Module):\n",
    "    def __init__(self, channels_in, n_filters, kernel_size=2):\n",
    "        super(UNetBackward, self).__init__()\n",
    "        self.kernel_size = kernel_size\n",
    "        \n",
    "        self.conv_fn = nn.ConvTranspose2d(\n",
    "            in_channels=channels_in, \n",
    "            out_channels=n_filters,\n",
    "            kernel_size=kernel_size, \n",
    "            stride=kernel_size,\n",
    "            padding=0)\n",
    "        \n",
    "        self.conv_block = UNetConvBlock(channels_in, n_filters)\n",
    "\n",
    "    def forward(self, x):\n",
    "        x, pre_x = x\n",
    "        \n",
    "        x = self.conv_fn(x)\n",
    "    \n",
    "        # and yeap, theano-style shape....just why?\n",
    "        _, _, x_h, x_w = x.size()\n",
    "        \n",
    "        upsampling_fn = nn.UpsamplingBilinear2d(size=(x_h, x_w))\n",
    "        pre_x = upsampling_fn(pre_x)\n",
    "        \n",
    "        # @TODO: need to check shapes here\n",
    "        x = torch.cat((x, pre_x), 1)\n",
    "        \n",
    "        conv = self.conv_block(x)\n",
    "        return conv"
   ]
  },
  {
   "cell_type": "code",
   "execution_count": null,
   "metadata": {
    "collapsed": false
   },
   "outputs": [],
   "source": [
    "class UNet(nn.Module):\n",
    "    def __init__(self, c_in=3, c_out=2, layers=None):\n",
    "        super(UNet, self).__init__()\n",
    "        self.layers = (layers or [32, 64, 128, 256, 512])\n",
    "        \n",
    "        self.forward_layers = [UNetForward(c_in, c_out) \n",
    "                               for c_in, c_out in pairwise([c_in] + self.layers[:-1])]\n",
    "        \n",
    "        self.conv_block = UNetConvBlock(self.layers[-2], self.layers[-1])\n",
    "        self.backward_layers = [UNetBackward(c_in, c_out) \n",
    "                                for c_in, c_out in pairwise(self.layers[::-1])]\n",
    "        \n",
    "        self.output_fn = nn.Conv2d(\n",
    "            in_channels=self.layers[0], \n",
    "            out_channels=c_out, \n",
    "            kernel_size=1, \n",
    "            padding=0,\n",
    "            bias=True)\n",
    "    \n",
    "    def set_training(self, is_training):\n",
    "        if is_training:\n",
    "            for layer in self.forward_layers:\n",
    "                layer.train()\n",
    "            for layer in self.backward_layers:\n",
    "                layer.train()\n",
    "            self.train()\n",
    "        else:\n",
    "            for layer in self.forward_layers:\n",
    "                layer.eval()\n",
    "            for layer in self.backward_layers:\n",
    "                layer.eval()\n",
    "            self.eval()\n",
    "    \n",
    "    def set_cuda(self):\n",
    "        self.cuda()\n",
    "        for layer in self.forward_layers:\n",
    "            layer.cuda()\n",
    "        for layer in self.backward_layers:\n",
    "            layer.cuda()\n",
    "\n",
    "    def forward(self, x):\n",
    "        layers_history = []\n",
    "        \n",
    "        for layer in self.forward_layers:\n",
    "            pre_x, x = layer(x)\n",
    "            layers_history.append(pre_x)\n",
    "    \n",
    "        x = self.conv_block(x)\n",
    "\n",
    "        for layer, pre_x in zip(self.backward_layers, layers_history[::-1]):\n",
    "            x = layer([x, pre_x])\n",
    "\n",
    "        x = self.output_fn(x)\n",
    "        \n",
    "        return F.softmax(x)\n",
    "    \n",
    "    def get_all_params(self):\n",
    "        forward_params = [layer.parameters() for layer in self.forward_layers]\n",
    "        backward_params = [layer.parameters() for layer in self.backward_layers]\n",
    "        return list(self.parameters()) + \\\n",
    "            list(flatten(forward_params)) + \\\n",
    "            list(flatten(backward_params))"
   ]
  },
  {
   "cell_type": "code",
   "execution_count": null,
   "metadata": {
    "collapsed": false
   },
   "outputs": [],
   "source": [
    "model = UNet()\n",
    "optimizer = optim.Adam(model.get_all_params(), 1e-5)"
   ]
  },
  {
   "cell_type": "code",
   "execution_count": null,
   "metadata": {
    "collapsed": true
   },
   "outputs": [],
   "source": [
    "use_cuda = True"
   ]
  },
  {
   "cell_type": "code",
   "execution_count": null,
   "metadata": {
    "collapsed": false
   },
   "outputs": [],
   "source": [
    "if use_cuda:\n",
    "    model.set_cuda()\n",
    "    loss_fn = nn.NLLLoss2d(weight=torch.Tensor([1.0, 50.0]).cuda())\n",
    "else:\n",
    "    loss_fn = nn.NLLLoss2d(weight=torch.Tensor([1.0, 50.0]))"
   ]
  },
  {
   "cell_type": "code",
   "execution_count": null,
   "metadata": {
    "collapsed": true
   },
   "outputs": [],
   "source": [
    "with open(\"train_data.pkl\", \"rb\") as fin:\n",
    "    train_data = pickle.load(fin)"
   ]
  },
  {
   "cell_type": "code",
   "execution_count": null,
   "metadata": {
    "collapsed": true
   },
   "outputs": [],
   "source": [
    "with open(\"val_data.pkl\", \"rb\") as fin:\n",
    "    val_data = pickle.load(fin)"
   ]
  },
  {
   "cell_type": "code",
   "execution_count": null,
   "metadata": {
    "collapsed": true
   },
   "outputs": [],
   "source": [
    "with open(\"test_data.pkl\", \"rb\") as fin:\n",
    "    test_data = pickle.load(fin)"
   ]
  },
  {
   "cell_type": "code",
   "execution_count": null,
   "metadata": {
    "collapsed": true
   },
   "outputs": [],
   "source": [
    "def channel_first_data(data):\n",
    "    return [\n",
    "        (np.transpose(x, [2, 0, 1]), np.transpose(y, [2, 0, 1]))\n",
    "        for x, y in data]"
   ]
  },
  {
   "cell_type": "code",
   "execution_count": null,
   "metadata": {
    "collapsed": false
   },
   "outputs": [],
   "source": [
    "train_data = channel_first_data(train_data)\n",
    "val_data = channel_first_data(val_data)\n",
    "# test_data = channel_first_data(test_data)"
   ]
  },
  {
   "cell_type": "code",
   "execution_count": null,
   "metadata": {
    "collapsed": true
   },
   "outputs": [],
   "source": [
    "train_loader = torch.utils.data.DataLoader(\n",
    "    train_data, batch_size=2, shuffle=True)"
   ]
  },
  {
   "cell_type": "code",
   "execution_count": null,
   "metadata": {
    "collapsed": true
   },
   "outputs": [],
   "source": [
    "test_loader = torch.utils.data.DataLoader(\n",
    "    val_data, batch_size=2, shuffle=True)"
   ]
  },
  {
   "cell_type": "code",
   "execution_count": null,
   "metadata": {
    "collapsed": false
   },
   "outputs": [],
   "source": [
    "def train(epoch):\n",
    "    model.set_training(True)\n",
    "    for batch_idx, (data, target) in enumerate(train_loader):\n",
    "        if use_cuda:\n",
    "            data, target = data.cuda().type(torch.cuda.FloatTensor), target.cuda().type(torch.cuda.LongTensor)\n",
    "        data, target = autograd.Variable(data), autograd.Variable(target)\n",
    "        optimizer.zero_grad()\n",
    "        output = model(data)\n",
    "        loss = loss_fn(output, torch.squeeze(target, 1))\n",
    "        loss.backward()\n",
    "        optimizer.step()\n",
    "        if batch_idx % 40 == 0:\n",
    "            print('Train Epoch: {} [{}/{} ({:.0f}%)]\\tLoss: {:.6f}'.format(\n",
    "                epoch, batch_idx * len(data), len(train_loader.dataset),\n",
    "                100. * batch_idx / len(train_loader), loss.data[0]))"
   ]
  },
  {
   "cell_type": "code",
   "execution_count": null,
   "metadata": {
    "collapsed": true
   },
   "outputs": [],
   "source": [
    "def test(epoch):\n",
    "    model.set_training(False)\n",
    "    test_loss = 0\n",
    "    for data, target in test_loader:\n",
    "        if use_cuda:\n",
    "            data, target = data.cuda().type(torch.cuda.FloatTensor), target.cuda().type(torch.cuda.LongTensor)\n",
    "        data, target = autograd.Variable(data, volatile=True), autograd.Variable(target)\n",
    "        output = model(data)\n",
    "        test_loss += loss_fn(output, torch.squeeze(target, 1)).data[0]\n",
    "\n",
    "    test_loss = test_loss\n",
    "    test_loss /= len(test_loader) # loss function already averages over batch size\n",
    "    print('\\nTest set: Average loss: {:.4f}\\n'.format(\n",
    "        test_loss))"
   ]
  },
  {
   "cell_type": "code",
   "execution_count": null,
   "metadata": {
    "collapsed": false,
    "scrolled": true
   },
   "outputs": [],
   "source": [
    "for epoch in range(1, 240 + 1):\n",
    "    train(epoch)\n",
    "    test(epoch)"
   ]
  },
  {
   "cell_type": "code",
   "execution_count": null,
   "metadata": {
    "collapsed": true
   },
   "outputs": [],
   "source": []
  },
  {
   "cell_type": "code",
   "execution_count": null,
   "metadata": {
    "collapsed": true
   },
   "outputs": [],
   "source": [
    "# def batch_generator(data, batch_size=16):\n",
    "#     while True:\n",
    "#         ids = np.random.choice(len(data), batch_size)\n",
    "#         imgs = np.array([data[i][0] for i in ids])\n",
    "#         labels = np.array([data[i][1] for i in ids])\n",
    "#         yield imgs, labels"
   ]
  },
  {
   "cell_type": "code",
   "execution_count": null,
   "metadata": {
    "collapsed": true
   },
   "outputs": [],
   "source": [
    "# def plot_unimetric(history, metric, save_dir=None):\n",
    "#     plt.figure()\n",
    "#     plt.plot(history[metric])\n",
    "#     plt.title('model {}'.format(metric))\n",
    "#     plt.ylabel(metric)\n",
    "#     plt.xlabel('epoch')\n",
    "#     if save_dir is None:\n",
    "#         plt.show()\n",
    "#     else:\n",
    "#         plt.savefig(\"{}/{}.png\".format(save_dir, metric),\n",
    "#                     format='png', dpi=300)"
   ]
  },
  {
   "cell_type": "code",
   "execution_count": null,
   "metadata": {
    "collapsed": true
   },
   "outputs": [],
   "source": [
    "# def save_stats(stats, save_dir=\"./\"):\n",
    "#     for key in stats:\n",
    "#         plot_unimetric(stats, key, save_dir)"
   ]
  },
  {
   "cell_type": "code",
   "execution_count": null,
   "metadata": {
    "collapsed": true
   },
   "outputs": [],
   "source": [
    "# def create_if_need(path):\n",
    "#     if not os.path.exists(path):\n",
    "#         os.makedirs(path)"
   ]
  },
  {
   "cell_type": "code",
   "execution_count": null,
   "metadata": {
    "collapsed": true
   },
   "outputs": [],
   "source": [
    "# n_epochs = 240\n",
    "# n_steps = 100\n",
    "# gpu_option = 0.95\n",
    "# batch_size = 2\n",
    "# load = True\n",
    "# model_dir = \"./model\"\n",
    "# stats_dir = \"./stats\"\n",
    "# train = False"
   ]
  },
  {
   "cell_type": "code",
   "execution_count": null,
   "metadata": {
    "collapsed": true
   },
   "outputs": [],
   "source": [
    "# save_dir = \"./val_predictions\"\n",
    "# create_if_need(save_dir)"
   ]
  },
  {
   "cell_type": "code",
   "execution_count": null,
   "metadata": {
    "collapsed": false,
    "scrolled": false
   },
   "outputs": [],
   "source": [
    "# for i, (label, pred) in enumerate(val_predictions):\n",
    "#     plt.figure(figsize=(10,8))\n",
    "#     plt.subplot(1,2,1)\n",
    "#     plt.imshow(label, 'gray')\n",
    "#     plt.subplot(1,2,2)\n",
    "# #     pred[pred < 0.5] = 0.0\n",
    "#     plt.imshow(pred, 'gray')\n",
    "#     plt.savefig(\"{}/{}.png\".format(save_dir, i),\n",
    "#                     format='png', dpi=300)\n",
    "#     plt.show()"
   ]
  },
  {
   "cell_type": "code",
   "execution_count": null,
   "metadata": {
    "collapsed": true
   },
   "outputs": [],
   "source": [
    "# save_dir = \"./test_predictions\"\n",
    "# create_if_need(save_dir)"
   ]
  },
  {
   "cell_type": "code",
   "execution_count": null,
   "metadata": {
    "collapsed": false,
    "scrolled": false
   },
   "outputs": [],
   "source": [
    "# for i, (label, pred) in enumerate(test_predictions):\n",
    "#     plt.figure(figsize=(10,8))\n",
    "#     plt.subplot(1,2,1)\n",
    "#     plt.imshow((label + 0.5) * 255.)\n",
    "#     plt.subplot(1,2,2)\n",
    "#     plt.imshow(pred, 'gray')\n",
    "#     plt.savefig(\"{}/{}.png\".format(save_dir, i),\n",
    "#                     format='png', dpi=300)\n",
    "#     plt.show()"
   ]
  }
 ],
 "metadata": {
  "anaconda-cloud": {},
  "kernelspec": {
   "display_name": "Python 3",
   "language": "python",
   "name": "python3"
  },
  "language_info": {
   "codemirror_mode": {
    "name": "ipython",
    "version": 3
   },
   "file_extension": ".py",
   "mimetype": "text/x-python",
   "name": "python",
   "nbconvert_exporter": "python",
   "pygments_lexer": "ipython3",
   "version": "3.5.2"
  }
 },
 "nbformat": 4,
 "nbformat_minor": 1
}
